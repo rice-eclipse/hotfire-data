{
 "cells": [
  {
   "cell_type": "code",
   "execution_count": 13,
   "metadata": {},
   "outputs": [],
   "source": [
    "import numpy as np\n",
    "import matplotlib.pyplot as plt\n",
    "\n",
    "import preprocessing as prep\n",
    "import visualization as vis\n",
    "from filtering import LPF"
   ]
  },
  {
   "cell_type": "code",
   "execution_count": 15,
   "metadata": {},
   "outputs": [],
   "source": [
    "DATA_DIR = \"titan-hf-4\"\n",
    "\n",
    "SENSORS = {\"b_load_1\": \"LC1 Axial Load\",\n",
    "           \"pres_1\": \"PT1 Combustion Chamber Pressure\",\n",
    "           \"pres_2\": \"PT2 Feedline Pressure\",\n",
    "           \"pres_3\": \"PT3 Injector Pressure\",\n",
    "           \"pres_4\": \"PT4 Ox-Tank Pressure\"}\n",
    "\n",
    "DRIVERS = {0: {\"name\": \"Ox Fill\", \"false\": \"Close\", \"true\": \"Open\"},\n",
    "           1: {\"name\": \"Ground Vent\", \"false\": \"Close\", \"true\": \"Open\"},\n",
    "           2: {\"name\": \"Pressurization\", \"false\": \"Open\", \"true\": \"Close\"},\n",
    "           3: {\"name\": \"Engine Vent\", \"false\": \"Close\", \"true\": \"Open\"},\n",
    "           4: {\"name\": \"Ignition\", \"false\": \"Shutoff\", \"true\": \"Ignite\"}}"
   ]
  },
  {
   "cell_type": "code",
   "execution_count": null,
   "metadata": {},
   "outputs": [
    {
     "name": "stdout",
     "output_type": "stream",
     "text": [
      "INFO:data_to_dash:Broadcasting message: 'Ignition in 10...'\n",
      " 41406\n",
      "6509 seconds\n",
      "1952000\n"
     ]
    }
   ],
   "source": [
    "prep.process_data(DATA_DIR, SENSORS)\n",
    "from time import time\n",
    "\n",
    "\n",
    "contents = []\n",
    "ignition_index = 0\n",
    "samples_before_ignition = 0\n",
    "\n",
    "with open(f\"{DATA_DIR}/data-raw/console.log\", 'r') as file:\n",
    "    while True:\n",
    "        line = file.readline()\n",
    "        if len(line) <= 1:\n",
    "            break\n",
    "        contents.append(line)\n",
    "for message in contents:\n",
    "    if \"Ignition in 10\" in message:\n",
    "        print(message, contents.index(message))\n",
    "        ignition_index = contents.index(message)\n",
    "        break\n",
    "#gets the data log of the number of samples sent to approximate\n",
    "#the 'start time'\n",
    "for idx in range(ignition_index,0,-1):\n",
    "    if \"samples obtained\" in contents[idx]:\n",
    "        samples_before_ignition = int(contents[idx].split(':')[2].split()[0])\n",
    "        temp_index = contents.index(contents[idx])\n",
    "        message_count = 0\n",
    "        for i in range(temp_index, ignition_index, 1):\n",
    "            if \"Sending data to\" in contents[i]:\n",
    "                message_count += 1   \n",
    "        time_since_start_approx = round(samples_before_ignition/300)\n",
    "        time_since_start = time_since_start_approx + round(message_count/2)\n",
    "        break\n"
   ]
  },
  {
   "cell_type": "code",
   "execution_count": null,
   "metadata": {},
   "outputs": [],
   "source": []
  }
 ],
 "metadata": {
  "kernelspec": {
   "display_name": "Python 3",
   "language": "python",
   "name": "python3"
  },
  "language_info": {
   "codemirror_mode": {
    "name": "ipython",
    "version": 3
   },
   "file_extension": ".py",
   "mimetype": "text/x-python",
   "name": "python",
   "nbconvert_exporter": "python",
   "pygments_lexer": "ipython3",
   "version": "3.13.2"
  }
 },
 "nbformat": 4,
 "nbformat_minor": 2
}
