{
 "cells": [
  {
   "cell_type": "code",
   "execution_count": 1,
   "metadata": {},
   "outputs": [],
   "source": [
    "import preprocessing as prep"
   ]
  },
  {
   "cell_type": "code",
   "execution_count": 2,
   "metadata": {},
   "outputs": [],
   "source": [
    "DATA_DIR = \"titan-hf-2\"\n",
    "\n",
    "SENSORS = {\"b_load_1\": \"LC1 Axial Load\",\n",
    "           \"thermo_2\": \"TC2 Combustion Chamber Temperature\",\n",
    "           \"pres_1\": \"PT1 Combustion Chamber Pressure\",\n",
    "           \"pres_2\": \"PT2 Feedline Pressure\",\n",
    "           \"pres_3\": \"PT3 Injector Pressure\",\n",
    "           \"pres_4\": \"PT4 Ox-Tank Pressure\"}\n",
    "\n",
    "DRIVERS = {0: {\"name\": \"Feedline\", \"false\": \"Close\", \"true\": \"Open\"},\n",
    "           1: {\"name\": \"Ox Vent\", \"false\": \"Close\", \"true\": \"Open\"},\n",
    "           2: {\"name\": \"Ground Vent\", \"false\": \"Open\", \"true\": \"Close\"},\n",
    "           3: {\"name\": \"Pressurization System\", \"false\": \"Close\", \"true\": \"Open\"},\n",
    "           5: {\"name\": \"Ignition\", \"false\": \"Shutoff\", \"true\": \"Ignite\"}}"
   ]
  },
  {
   "cell_type": "code",
   "execution_count": 3,
   "metadata": {},
   "outputs": [],
   "source": [
    "prep.process_data(DATA_DIR, SENSORS)\n",
    "prep.process_events(DATA_DIR, DRIVERS)"
   ]
  },
  {
   "cell_type": "code",
   "execution_count": null,
   "metadata": {},
   "outputs": [],
   "source": []
  }
 ],
 "metadata": {
  "kernelspec": {
   "display_name": "Python 3",
   "language": "python",
   "name": "python3"
  },
  "language_info": {
   "codemirror_mode": {
    "name": "ipython",
    "version": 3
   },
   "file_extension": ".py",
   "mimetype": "text/x-python",
   "name": "python",
   "nbconvert_exporter": "python",
   "pygments_lexer": "ipython3",
   "version": "3.9.10"
  }
 },
 "nbformat": 4,
 "nbformat_minor": 2
}
